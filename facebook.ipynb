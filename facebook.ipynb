{
 "cells": [
  {
   "cell_type": "code",
   "execution_count": 1,
   "id": "93160518-c4a6-4e5f-b2fb-a084168b0265",
   "metadata": {},
   "outputs": [],
   "source": [
    "import pandas as pd"
   ]
  },
  {
   "cell_type": "code",
   "execution_count": 5,
   "id": "2a6a2b8d-039b-4dcf-9e8e-f076522a4775",
   "metadata": {},
   "outputs": [],
   "source": [
    "df = pd.read_csv('dataset_Facebook.csv', sep=';')"
   ]
  },
  {
   "cell_type": "code",
   "execution_count": 7,
   "id": "57f8c690-c377-4e12-9281-f78f559dd7e0",
   "metadata": {},
   "outputs": [
    {
     "name": "stdout",
     "output_type": "stream",
     "text": [
      "Subset of Data:\n",
      "     Type  Category  Post Month  Post Weekday    like\n",
      "0   Photo         2          12             4    79.0\n",
      "1  Status         2          12             3   130.0\n",
      "2   Photo         3          12             3    66.0\n",
      "3   Photo         2          12             2  1572.0\n",
      "4   Photo         2          12             2   325.0\n",
      "5  Status         2          12             1   152.0\n",
      "6   Photo         3          12             1   249.0\n",
      "7   Photo         3          12             7   325.0\n",
      "8  Status         2          12             7   161.0\n",
      "9   Photo         3          12             6   113.0\n"
     ]
    }
   ],
   "source": [
    "# a. Create data subsets (e.g., selecting specific columns and rows)\n",
    "subset_df = df[['Type', 'Category', 'Post Month', 'Post Weekday', 'like']].head(10)\n",
    "print(\"Subset of Data:\")\n",
    "print(subset_df)"
   ]
  },
  {
   "cell_type": "code",
   "execution_count": 13,
   "id": "a4ab8c9b-4b39-4f9b-ae36-5592848842e1",
   "metadata": {},
   "outputs": [
    {
     "name": "stdout",
     "output_type": "stream",
     "text": [
      "\n",
      "Merged Data:\n",
      "   Post Month Extra Info\n",
      "0          12        NaN\n",
      "1          12        NaN\n",
      "2          12        NaN\n",
      "3          12        NaN\n",
      "4          12        NaN\n"
     ]
    }
   ],
   "source": [
    "# b. Merge Data (merge subset_df with another example DataFrame)\n",
    "extra_data = pd.DataFrame({\n",
    "    'Post Month': [1, 2, 3],\n",
    "    'Extra Info': ['Info A', 'Info B', 'Info C']\n",
    "})\n",
    "merged_df = pd.merge(df, extra_data, on='Post Month', how='left')\n",
    "print(\"\\nMerged Data:\")\n",
    "print(merged_df[['Post Month', 'Extra Info']].head())"
   ]
  },
  {
   "cell_type": "code",
   "execution_count": 21,
   "id": "5b58cd22-aa73-46bc-8f01-5cd5279bcbfd",
   "metadata": {},
   "outputs": [
    {
     "name": "stdout",
     "output_type": "stream",
     "text": [
      "\n",
      "Sorted Data by Likes:\n",
      "       Type    like\n",
      "244   Photo  5172.0\n",
      "379   Photo  1998.0\n",
      "349   Photo  1639.0\n",
      "168   Photo  1622.0\n",
      "3     Photo  1572.0\n",
      "460   Photo  1546.0\n",
      "101   Photo  1505.0\n",
      "323   Photo  1372.0\n",
      "199   Photo  1155.0\n",
      "176   Photo  1047.0\n",
      "105   Photo   955.0\n",
      "142  Status   859.0\n",
      "206   Photo   859.0\n",
      "346   Photo   821.0\n",
      "191   Photo   766.0\n",
      "391   Photo   766.0\n",
      "254   Photo   755.0\n",
      "67    Photo   697.0\n",
      "270   Photo   696.0\n",
      "17    Photo   678.0\n"
     ]
    }
   ],
   "source": [
    "# c. Sort Data (by number of likes)\n",
    "sorted_df = df.sort_values(by='like', ascending=False)\n",
    "print(\"\\nSorted Data by Likes:\")\n",
    "print(sorted_df[['Type', 'like']].head(20))"
   ]
  },
  {
   "cell_type": "code",
   "execution_count": 23,
   "id": "59025f68-a50c-44cd-b370-81cc48ea626a",
   "metadata": {},
   "outputs": [
    {
     "name": "stdout",
     "output_type": "stream",
     "text": [
      "\n",
      "Transposed Data (first 3 rows):\n",
      "                                                         0       1       2\n",
      "Page total likes                                    139441  139441  139441\n",
      "Type                                                 Photo  Status   Photo\n",
      "Category                                                 2       2       3\n",
      "Post Month                                              12      12      12\n",
      "Post Weekday                                             4       3       3\n",
      "Post Hour                                                3      10       3\n",
      "Paid                                                   0.0     0.0     0.0\n",
      "Lifetime Post Total Reach                             2752   10460    2413\n",
      "Lifetime Post Total Impressions                       5091   19057    4373\n",
      "Lifetime Engaged Users                                 178    1457     177\n",
      "Lifetime Post Consumers                                109    1361     113\n",
      "Lifetime Post Consumptions                             159    1674     154\n",
      "Lifetime Post Impressions by people who have li...    3078   11710    2812\n",
      "Lifetime Post reach by people who like your Page      1640    6112    1503\n",
      "Lifetime People who have liked your Page and en...     119    1108     132\n",
      "comment                                                  4       5       0\n",
      "like                                                  79.0   130.0    66.0\n",
      "share                                                 17.0    29.0    14.0\n",
      "Total Interactions                                     100     164      80\n"
     ]
    }
   ],
   "source": [
    "# d. Transposing Data\n",
    "transposed = df.head(3).transpose()\n",
    "print(\"\\nTransposed Data (first 3 rows):\")\n",
    "print(transposed)"
   ]
  },
  {
   "cell_type": "code",
   "execution_count": 25,
   "id": "b00b912d-5ade-461c-aa52-1ba966087d23",
   "metadata": {},
   "outputs": [
    {
     "name": "stdout",
     "output_type": "stream",
     "text": [
      "\n",
      "Original Shape: (500, 19)\n",
      "Reshaped Array (2x9):\n",
      "[[7.900e+01 1.700e+01 4.000e+00 1.300e+02 2.900e+01 5.000e+00 6.600e+01\n",
      "  1.400e+01 0.000e+00]\n",
      " [1.572e+03 1.470e+02 5.800e+01 3.250e+02 4.900e+01 1.900e+01 1.520e+02\n",
      "  3.300e+01 1.000e+00]]\n"
     ]
    }
   ],
   "source": [
    "# e. Shape and reshape Data\n",
    "print(\"\\nOriginal Shape:\", df.shape)\n",
    "reshaped = df[['like', 'share', 'comment']].head(6).values.reshape(2, 9)  # 6 rows x 3 cols = 18 values\n",
    "print(\"Reshaped Array (2x9):\")\n",
    "print(reshaped)"
   ]
  },
  {
   "cell_type": "code",
   "execution_count": null,
   "id": "bdafe346-048b-41c3-b73e-5f646a43a551",
   "metadata": {},
   "outputs": [],
   "source": []
  }
 ],
 "metadata": {
  "kernelspec": {
   "display_name": "Python 3 (ipykernel)",
   "language": "python",
   "name": "python3"
  },
  "language_info": {
   "codemirror_mode": {
    "name": "ipython",
    "version": 3
   },
   "file_extension": ".py",
   "mimetype": "text/x-python",
   "name": "python",
   "nbconvert_exporter": "python",
   "pygments_lexer": "ipython3",
   "version": "3.11.7"
  }
 },
 "nbformat": 4,
 "nbformat_minor": 5
}
