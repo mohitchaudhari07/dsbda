{
 "cells": [
  {
   "cell_type": "code",
   "execution_count": 4,
   "id": "a3665957-a969-40d3-8c8a-121f577cfbe6",
   "metadata": {},
   "outputs": [],
   "source": [
    "import pandas as pd\n",
    "import numpy as np\n",
    "from sklearn.linear_model import LinearRegression\n",
    "from sklearn.model_selection import train_test_split\n",
    "from sklearn.metrics import mean_squared_error"
   ]
  },
  {
   "cell_type": "code",
   "execution_count": 5,
   "id": "2d57491c-d33d-484f-8ac3-d0007e7985f5",
   "metadata": {},
   "outputs": [],
   "source": [
    "df = pd.read_csv('AirQuality.csv', sep=';', decimal=',', encoding='latin1')"
   ]
  },
  {
   "cell_type": "code",
   "execution_count": 6,
   "id": "313065e9-df32-4974-a7b4-3040ae6a45ff",
   "metadata": {},
   "outputs": [
    {
     "name": "stdout",
     "output_type": "stream",
     "text": [
      "         Date      Time  CO(GT)  PT08.S1(CO)  NMHC(GT)  C6H6(GT)  \\\n",
      "0  10/03/2004  18.00.00     2.6       1360.0     150.0      11.9   \n",
      "1  10/03/2004  19.00.00     2.0       1292.0     112.0       9.4   \n",
      "2  10/03/2004  20.00.00     2.2       1402.0      88.0       9.0   \n",
      "3  10/03/2004  21.00.00     2.2       1376.0      80.0       9.2   \n",
      "4  10/03/2004  22.00.00     1.6       1272.0      51.0       6.5   \n",
      "\n",
      "   PT08.S2(NMHC)  NOx(GT)  PT08.S3(NOx)  NO2(GT)  PT08.S4(NO2)  PT08.S5(O3)  \\\n",
      "0         1046.0    166.0        1056.0    113.0        1692.0       1268.0   \n",
      "1          955.0    103.0        1174.0     92.0        1559.0        972.0   \n",
      "2          939.0    131.0        1140.0    114.0        1555.0       1074.0   \n",
      "3          948.0    172.0        1092.0    122.0        1584.0       1203.0   \n",
      "4          836.0    131.0        1205.0    116.0        1490.0       1110.0   \n",
      "\n",
      "      T    RH      AH  Unnamed: 15  Unnamed: 16  \n",
      "0  13.6  48.9  0.7578          NaN          NaN  \n",
      "1  13.3  47.7  0.7255          NaN          NaN  \n",
      "2  11.9  54.0  0.7502          NaN          NaN  \n",
      "3  11.0  60.0  0.7867          NaN          NaN  \n",
      "4  11.2  59.6  0.7888          NaN          NaN  \n"
     ]
    }
   ],
   "source": [
    "print(df.head())"
   ]
  },
  {
   "cell_type": "code",
   "execution_count": 12,
   "id": "d50d6b43-b1d8-490d-ba37-328a9972750e",
   "metadata": {},
   "outputs": [],
   "source": [
    "# a. Data Cleaning\n",
    "# Drop unnamed columns, handle missing values\n",
    "df = df.dropna(how='all', axis=1)  # Remove empty columns\n",
    "df.replace(-200, np.nan, inplace=True)  # -200 is placeholder for missing\n",
    "df.fillna(df.mean(numeric_only = True), inplace=True)  # Fill missing values with mean"
   ]
  },
  {
   "cell_type": "code",
   "execution_count": 14,
   "id": "656b6ee2-3e71-4117-8cf1-b2846fc5b6b2",
   "metadata": {},
   "outputs": [
    {
     "name": "stdout",
     "output_type": "stream",
     "text": [
      "Cleaned Data Sample:\n",
      "         Date      Time  CO(GT)  PT08.S1(CO)  NMHC(GT)  C6H6(GT)  \\\n",
      "0  10/03/2004  18.00.00     2.6       1360.0     150.0      11.9   \n",
      "1  10/03/2004  19.00.00     2.0       1292.0     112.0       9.4   \n",
      "2  10/03/2004  20.00.00     2.2       1402.0      88.0       9.0   \n",
      "3  10/03/2004  21.00.00     2.2       1376.0      80.0       9.2   \n",
      "4  10/03/2004  22.00.00     1.6       1272.0      51.0       6.5   \n",
      "\n",
      "   PT08.S2(NMHC)  NOx(GT)  PT08.S3(NOx)  NO2(GT)  PT08.S4(NO2)  PT08.S5(O3)  \\\n",
      "0         1046.0    166.0        1056.0    113.0        1692.0       1268.0   \n",
      "1          955.0    103.0        1174.0     92.0        1559.0        972.0   \n",
      "2          939.0    131.0        1140.0    114.0        1555.0       1074.0   \n",
      "3          948.0    172.0        1092.0    122.0        1584.0       1203.0   \n",
      "4          836.0    131.0        1205.0    116.0        1490.0       1110.0   \n",
      "\n",
      "      T    RH      AH  \n",
      "0  13.6  48.9  0.7578  \n",
      "1  13.3  47.7  0.7255  \n",
      "2  11.9  54.0  0.7502  \n",
      "3  11.0  60.0  0.7867  \n",
      "4  11.2  59.6  0.7888  \n"
     ]
    }
   ],
   "source": [
    "print(\"Cleaned Data Sample:\")\n",
    "print(df.head())"
   ]
  },
  {
   "cell_type": "code",
   "execution_count": 16,
   "id": "b89939ea-1446-454e-ae43-c27816eae2e9",
   "metadata": {},
   "outputs": [],
   "source": [
    "# b. Data Integration\n",
    "df['NOx+NO2'] = df['NOx(GT)'] + df['NO2(GT)']  # Integrate two pollutant values\n"
   ]
  },
  {
   "cell_type": "code",
   "execution_count": 18,
   "id": "4335b234-235a-4553-85be-274fae307f02",
   "metadata": {},
   "outputs": [
    {
     "name": "stdout",
     "output_type": "stream",
     "text": [
      "Cleaned Data Sample:\n",
      "         Date      Time  CO(GT)  PT08.S1(CO)  NMHC(GT)  C6H6(GT)  \\\n",
      "0  10/03/2004  18.00.00     2.6       1360.0     150.0      11.9   \n",
      "1  10/03/2004  19.00.00     2.0       1292.0     112.0       9.4   \n",
      "2  10/03/2004  20.00.00     2.2       1402.0      88.0       9.0   \n",
      "3  10/03/2004  21.00.00     2.2       1376.0      80.0       9.2   \n",
      "4  10/03/2004  22.00.00     1.6       1272.0      51.0       6.5   \n",
      "\n",
      "   PT08.S2(NMHC)  NOx(GT)  PT08.S3(NOx)  NO2(GT)  PT08.S4(NO2)  PT08.S5(O3)  \\\n",
      "0         1046.0    166.0        1056.0    113.0        1692.0       1268.0   \n",
      "1          955.0    103.0        1174.0     92.0        1559.0        972.0   \n",
      "2          939.0    131.0        1140.0    114.0        1555.0       1074.0   \n",
      "3          948.0    172.0        1092.0    122.0        1584.0       1203.0   \n",
      "4          836.0    131.0        1205.0    116.0        1490.0       1110.0   \n",
      "\n",
      "      T    RH      AH  NOx+NO2  \n",
      "0  13.6  48.9  0.7578    279.0  \n",
      "1  13.3  47.7  0.7255    195.0  \n",
      "2  11.9  54.0  0.7502    245.0  \n",
      "3  11.0  60.0  0.7867    294.0  \n",
      "4  11.2  59.6  0.7888    247.0  \n"
     ]
    }
   ],
   "source": [
    "print(\"Cleaned Data Sample:\")\n",
    "print(df.head())"
   ]
  },
  {
   "cell_type": "code",
   "execution_count": 70,
   "id": "7db06b12-5a6f-4c00-8fe5-64b46fb605fb",
   "metadata": {},
   "outputs": [],
   "source": [
    "# c. Data Transformation\n",
    "# Normalize CO(GT) values between 0 and 1\n",
    "df['CO(GT)_normalized'] = (df['CO(GT)'] - df['CO(GT)'].min()) / (df['CO(GT)'].max() - df['CO(GT)'].min())\n"
   ]
  },
  {
   "cell_type": "code",
   "execution_count": 72,
   "id": "5731c1ac-1d64-4cef-9da1-1f405bfde461",
   "metadata": {},
   "outputs": [
    {
     "name": "stdout",
     "output_type": "stream",
     "text": [
      "         Date      Time  CO(GT)  PT08.S1(CO)  NMHC(GT)  C6H6(GT)  \\\n",
      "0  10/03/2004  18.00.00     2.6       1360.0     150.0      11.9   \n",
      "1  10/03/2004  19.00.00     2.0       1292.0     112.0       9.4   \n",
      "2  10/03/2004  20.00.00     2.2       1402.0      88.0       9.0   \n",
      "3  10/03/2004  21.00.00     2.2       1376.0      80.0       9.2   \n",
      "4  10/03/2004  22.00.00     1.6       1272.0      51.0       6.5   \n",
      "\n",
      "   PT08.S2(NMHC)  NOx(GT)  PT08.S3(NOx)  NO2(GT)  PT08.S4(NO2)  PT08.S5(O3)  \\\n",
      "0         1046.0    166.0        1056.0    113.0        1692.0       1268.0   \n",
      "1          955.0    103.0        1174.0     92.0        1559.0        972.0   \n",
      "2          939.0    131.0        1140.0    114.0        1555.0       1074.0   \n",
      "3          948.0    172.0        1092.0    122.0        1584.0       1203.0   \n",
      "4          836.0    131.0        1205.0    116.0        1490.0       1110.0   \n",
      "\n",
      "      T    RH      AH  NOx+NO2  CO(GT)_normalized  \n",
      "0  13.6  48.9  0.7578    279.0           0.211864  \n",
      "1  13.3  47.7  0.7255    195.0           0.161017  \n",
      "2  11.9  54.0  0.7502    245.0           0.177966  \n",
      "3  11.0  60.0  0.7867    294.0           0.177966  \n",
      "4  11.2  59.6  0.7888    247.0           0.127119  \n"
     ]
    }
   ],
   "source": [
    "print(df.head())"
   ]
  },
  {
   "cell_type": "code",
   "execution_count": 74,
   "id": "4b0e4b03-5170-447a-ae5c-8dbaf6a667fa",
   "metadata": {},
   "outputs": [],
   "source": [
    "# d. Error Correcting\n",
    "# Remove rows where CO(GT) is negative (invalid sensor reading)\n",
    "df = df[df['CO(GT)'] >= 0]"
   ]
  },
  {
   "cell_type": "code",
   "execution_count": 76,
   "id": "efe36c5d-64a8-4a0d-b7ed-6dbcc823f230",
   "metadata": {},
   "outputs": [
    {
     "name": "stdout",
     "output_type": "stream",
     "text": [
      "         Date      Time  CO(GT)  PT08.S1(CO)  NMHC(GT)  C6H6(GT)  \\\n",
      "0  10/03/2004  18.00.00     2.6       1360.0     150.0      11.9   \n",
      "1  10/03/2004  19.00.00     2.0       1292.0     112.0       9.4   \n",
      "2  10/03/2004  20.00.00     2.2       1402.0      88.0       9.0   \n",
      "3  10/03/2004  21.00.00     2.2       1376.0      80.0       9.2   \n",
      "4  10/03/2004  22.00.00     1.6       1272.0      51.0       6.5   \n",
      "\n",
      "   PT08.S2(NMHC)  NOx(GT)  PT08.S3(NOx)  NO2(GT)  PT08.S4(NO2)  PT08.S5(O3)  \\\n",
      "0         1046.0    166.0        1056.0    113.0        1692.0       1268.0   \n",
      "1          955.0    103.0        1174.0     92.0        1559.0        972.0   \n",
      "2          939.0    131.0        1140.0    114.0        1555.0       1074.0   \n",
      "3          948.0    172.0        1092.0    122.0        1584.0       1203.0   \n",
      "4          836.0    131.0        1205.0    116.0        1490.0       1110.0   \n",
      "\n",
      "      T    RH      AH  NOx+NO2  CO(GT)_normalized  \n",
      "0  13.6  48.9  0.7578    279.0           0.211864  \n",
      "1  13.3  47.7  0.7255    195.0           0.161017  \n",
      "2  11.9  54.0  0.7502    245.0           0.177966  \n",
      "3  11.0  60.0  0.7867    294.0           0.177966  \n",
      "4  11.2  59.6  0.7888    247.0           0.127119  \n"
     ]
    }
   ],
   "source": [
    "print(df.head())"
   ]
  },
  {
   "cell_type": "code",
   "execution_count": 78,
   "id": "e981b0dd-9f3f-432b-87b7-6bc5ee0abe72",
   "metadata": {},
   "outputs": [],
   "source": [
    "# e. Data Model Building\n",
    "# Predict CO(GT) using other features\n",
    "X = df[['T', 'RH', 'AH']]  # Features: temperature, humidity, absolute humidity\n",
    "y = df['CO(GT)']"
   ]
  },
  {
   "cell_type": "code",
   "execution_count": 82,
   "id": "ea29e1ed-0b97-4dca-a4d3-1cf0bc0797b5",
   "metadata": {},
   "outputs": [],
   "source": [
    "X_train, X_test, y_train, y_test = train_test_split(X, y, test_size=0.2, random_state=42)"
   ]
  },
  {
   "cell_type": "code",
   "execution_count": 84,
   "id": "1926296a-1d7f-4bc1-951e-c7ceb0c2bbe3",
   "metadata": {},
   "outputs": [],
   "source": [
    "model = LinearRegression()\n",
    "model.fit(X_train, y_train)\n",
    "predictions = model.predict(X_test)\n",
    "mse = mean_squared_error(y_test, predictions)"
   ]
  },
  {
   "cell_type": "code",
   "execution_count": 86,
   "id": "25863c0d-5f0a-438e-a462-52790d669809",
   "metadata": {},
   "outputs": [
    {
     "name": "stdout",
     "output_type": "stream",
     "text": [
      "\n",
      "Model Coefficients: [ 0.03085935  0.01352299 -0.43458485]\n",
      "Mean Squared Error: 1.7456312252494826\n"
     ]
    }
   ],
   "source": [
    "print(\"\\nModel Coefficients:\", model.coef_)\n",
    "print(\"Mean Squared Error:\", mse)"
   ]
  },
  {
   "cell_type": "code",
   "execution_count": null,
   "id": "0522d8eb-4a03-4f67-b320-dfb5b9351249",
   "metadata": {},
   "outputs": [],
   "source": []
  }
 ],
 "metadata": {
  "kernelspec": {
   "display_name": "Python 3 (ipykernel)",
   "language": "python",
   "name": "python3"
  },
  "language_info": {
   "codemirror_mode": {
    "name": "ipython",
    "version": 3
   },
   "file_extension": ".py",
   "mimetype": "text/x-python",
   "name": "python",
   "nbconvert_exporter": "python",
   "pygments_lexer": "ipython3",
   "version": "3.11.7"
  }
 },
 "nbformat": 4,
 "nbformat_minor": 5
}
