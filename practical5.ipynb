{
 "cells": [
  {
   "cell_type": "code",
   "execution_count": 1,
   "id": "46c0d274-8036-4bab-9b1e-012b8bce0bcf",
   "metadata": {},
   "outputs": [
    {
     "name": "stdout",
     "output_type": "stream",
     "text": [
      "Requirement already satisfied: requests in c:\\users\\chaud\\anaconda3\\lib\\site-packages (2.31.0)\n",
      "Requirement already satisfied: beautifulsoup4 in c:\\users\\chaud\\anaconda3\\lib\\site-packages (4.12.2)\n",
      "Requirement already satisfied: charset-normalizer<4,>=2 in c:\\users\\chaud\\anaconda3\\lib\\site-packages (from requests) (2.0.4)\n",
      "Requirement already satisfied: idna<4,>=2.5 in c:\\users\\chaud\\anaconda3\\lib\\site-packages (from requests) (3.4)\n",
      "Requirement already satisfied: urllib3<3,>=1.21.1 in c:\\users\\chaud\\anaconda3\\lib\\site-packages (from requests) (2.0.7)\n",
      "Requirement already satisfied: certifi>=2017.4.17 in c:\\users\\chaud\\anaconda3\\lib\\site-packages (from requests) (2024.6.2)\n",
      "Requirement already satisfied: soupsieve>1.2 in c:\\users\\chaud\\anaconda3\\lib\\site-packages (from beautifulsoup4) (2.5)\n"
     ]
    }
   ],
   "source": [
    "!pip install requests beautifulsoup4"
   ]
  },
  {
   "cell_type": "code",
   "execution_count": 2,
   "id": "5d72cf81-1bff-48a6-a1cd-51a424f262f1",
   "metadata": {},
   "outputs": [],
   "source": [
    "import requests"
   ]
  },
  {
   "cell_type": "code",
   "execution_count": 4,
   "id": "1b7d759f-59ac-4732-bcd0-12723da33dfe",
   "metadata": {},
   "outputs": [],
   "source": [
    "from bs4 import BeautifulSoup"
   ]
  },
  {
   "cell_type": "code",
   "execution_count": 6,
   "id": "817535dd-338c-4de0-a6a2-3095444d56f0",
   "metadata": {},
   "outputs": [],
   "source": [
    "import json"
   ]
  },
  {
   "cell_type": "code",
   "execution_count": 47,
   "id": "02cd265f-23cc-4dd3-a558-e0fea05d8452",
   "metadata": {},
   "outputs": [],
   "source": [
    "\n",
    "url = 'https://www.meesho.com/stylish-casual-block-heels-for-women/p/5y67ap'"
   ]
  },
  {
   "cell_type": "code",
   "execution_count": 49,
   "id": "8d9dabcd-0864-4527-b8fc-e7373756949b",
   "metadata": {},
   "outputs": [],
   "source": [
    "response = requests.get(url)"
   ]
  },
  {
   "cell_type": "code",
   "execution_count": 50,
   "id": "1cade7d6-eee4-4205-82cf-8bc456693318",
   "metadata": {},
   "outputs": [],
   "source": [
    "soup = BeautifulSoup(response.content , 'html.parser')"
   ]
  },
  {
   "cell_type": "code",
   "execution_count": 51,
   "id": "322b8623-f6fd-4d46-ba44-5ce36a950f47",
   "metadata": {},
   "outputs": [],
   "source": [
    "scripts = soup.find_all('script' , type = 'application/ld+json')"
   ]
  },
  {
   "cell_type": "code",
   "execution_count": 66,
   "id": "4a6cfcfa-fce0-4886-8c0a-02c10511e3ae",
   "metadata": {},
   "outputs": [
    {
     "name": "stdout",
     "output_type": "stream",
     "text": [
      " Customer Name : mayagarg\n",
      " Rating : 5\n",
      " Review : Bahut hi pyari sendle h ekdm fit aai h mere per pr amazing 😍 tq meesho ❤️\n",
      " Tag : Not available in static Html\n",
      " Date Published : 2025-03-18 12:21:45\n",
      "------------------------------------------------------------\n",
      " Customer Name : Jyotsna  goud\n",
      " Rating : 5\n",
      " Review : I really like the fit the material of the product.. must buy product\n",
      " Tag : Not available in static Html\n",
      " Date Published : 2024-12-03 18:06:46\n",
      "------------------------------------------------------------\n"
     ]
    }
   ],
   "source": [
    "for script in scripts:\n",
    "    try:\n",
    "        data = json.loads(script.string)\n",
    "\n",
    "        if \"review\" in data:\n",
    "            for review in data[\"review\"]:\n",
    "                print(f\" Customer Name : {review['author']['name']}\")\n",
    "                print(f\" Rating : {review['reviewRating']['ratingValue']}\")\n",
    "                print(f\" Review : {review['reviewBody']}\")\n",
    "                print(\" Tag : Not available in static Html\")\n",
    "                print(f\" Date Published : {review['datePublished']}\")\n",
    "                print(\"-\" * 60)\n",
    "                \n",
    "\n",
    "    except Exception as e:\n",
    "        print(\"Error parsing JSON or accessing review data:\", e)"
   ]
  },
  {
   "cell_type": "code",
   "execution_count": null,
   "id": "1d24610a-f3a8-482a-ac7c-66a148a8c0a2",
   "metadata": {},
   "outputs": [],
   "source": []
  },
  {
   "cell_type": "code",
   "execution_count": null,
   "id": "e98a9be2-fe05-48b2-b466-71456a53bd06",
   "metadata": {},
   "outputs": [],
   "source": []
  }
 ],
 "metadata": {
  "kernelspec": {
   "display_name": "Python 3 (ipykernel)",
   "language": "python",
   "name": "python3"
  },
  "language_info": {
   "codemirror_mode": {
    "name": "ipython",
    "version": 3
   },
   "file_extension": ".py",
   "mimetype": "text/x-python",
   "name": "python",
   "nbconvert_exporter": "python",
   "pygments_lexer": "ipython3",
   "version": "3.11.7"
  }
 },
 "nbformat": 4,
 "nbformat_minor": 5
}
